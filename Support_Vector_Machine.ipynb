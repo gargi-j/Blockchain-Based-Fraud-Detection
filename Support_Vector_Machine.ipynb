{
  "cells": [
    {
      "cell_type": "code",
      "execution_count": null,
      "id": "49340189",
      "metadata": {
        "id": "49340189"
      },
      "outputs": [],
      "source": [
        "import numpy as np\n",
        "import pandas as pd\n",
        "from sklearn.model_selection import train_test_split, GridSearchCV, KFold\n",
        "from sklearn.svm import SVC\n",
        "from sklearn import metrics\n",
        "from sklearn.preprocessing import StandardScaler, MinMaxScaler\n",
        "from sklearn.metrics import accuracy_score, f1_score"
      ]
    },
    {
      "cell_type": "code",
      "execution_count": null,
      "id": "ed903cec",
      "metadata": {
        "colab": {
          "base_uri": "https://localhost:8080/",
          "height": 276
        },
        "id": "ed903cec",
        "outputId": "a6d0b230-8b51-44c4-fc11-2f3977720007"
      },
      "outputs": [
        {
          "output_type": "execute_result",
          "data": {
            "text/plain": [
              "                                      Address  FLAG  Avg min between sent tnx  \\\n",
              "0  0x87d884aaa6ff9e9b6014631b0abae80b53953fb8     1                   5151.68   \n",
              "1  0xd42393df90d582bd8a5493171f0173e3a017d391     1                   1179.02   \n",
              "2  0x3025c36d8a9620d3df89e9e9b1acbdfd639a6f37     1                    361.73   \n",
              "3  0x6309f709faad518fc158af4c14edfa7b06424770     1                      0.00   \n",
              "4  0x3d020954e30c3d40b7f0c533cf198bc10dd45a49     1                  14280.60   \n",
              "\n",
              "   Avg min between received tnx  Time Diff between first and last (Mins)  \\\n",
              "0                      15159.08                                 71235.62   \n",
              "1                       1124.89                                 25126.45   \n",
              "2                          0.00                                   723.47   \n",
              "3                          0.00                                     0.00   \n",
              "4                       1479.86                                 45357.57   \n",
              "\n",
              "   Unique Received From Addresses  min value received  max value received   \\\n",
              "0                               1            0.010000             0.020000   \n",
              "1                              13            0.000000             0.750000   \n",
              "2                               1            4.999916             4.999916   \n",
              "3                               0            0.000000             0.000000   \n",
              "4                              21            0.035000             0.200000   \n",
              "\n",
              "   avg val received  min val sent  avg val sent  \\\n",
              "0          0.013367      0.000000      0.000000   \n",
              "1          0.176667      0.145000      0.419270   \n",
              "2          4.999916      2.490000      2.499538   \n",
              "3          0.000000      0.000000      0.000000   \n",
              "4          0.099286      2.084658      2.084658   \n",
              "\n",
              "   total transactions (including tnx to create contract  total ether received  \\\n",
              "0                                                  8                 0.040100   \n",
              "1                                                 22                 2.650000   \n",
              "2                                                  3                 4.999916   \n",
              "3                                                  0                 0.000000   \n",
              "4                                                 22                 2.085000   \n",
              "\n",
              "   total ether balance  \n",
              "0             0.040100  \n",
              "1            -0.284889  \n",
              "2             0.000840  \n",
              "3             0.000000  \n",
              "4             0.000342  "
            ],
            "text/html": [
              "\n",
              "  <div id=\"df-649626ab-2dda-4d1f-b156-80ae31c60146\" class=\"colab-df-container\">\n",
              "    <div>\n",
              "<style scoped>\n",
              "    .dataframe tbody tr th:only-of-type {\n",
              "        vertical-align: middle;\n",
              "    }\n",
              "\n",
              "    .dataframe tbody tr th {\n",
              "        vertical-align: top;\n",
              "    }\n",
              "\n",
              "    .dataframe thead th {\n",
              "        text-align: right;\n",
              "    }\n",
              "</style>\n",
              "<table border=\"1\" class=\"dataframe\">\n",
              "  <thead>\n",
              "    <tr style=\"text-align: right;\">\n",
              "      <th></th>\n",
              "      <th>Address</th>\n",
              "      <th>FLAG</th>\n",
              "      <th>Avg min between sent tnx</th>\n",
              "      <th>Avg min between received tnx</th>\n",
              "      <th>Time Diff between first and last (Mins)</th>\n",
              "      <th>Unique Received From Addresses</th>\n",
              "      <th>min value received</th>\n",
              "      <th>max value received</th>\n",
              "      <th>avg val received</th>\n",
              "      <th>min val sent</th>\n",
              "      <th>avg val sent</th>\n",
              "      <th>total transactions (including tnx to create contract</th>\n",
              "      <th>total ether received</th>\n",
              "      <th>total ether balance</th>\n",
              "    </tr>\n",
              "  </thead>\n",
              "  <tbody>\n",
              "    <tr>\n",
              "      <th>0</th>\n",
              "      <td>0x87d884aaa6ff9e9b6014631b0abae80b53953fb8</td>\n",
              "      <td>1</td>\n",
              "      <td>5151.68</td>\n",
              "      <td>15159.08</td>\n",
              "      <td>71235.62</td>\n",
              "      <td>1</td>\n",
              "      <td>0.010000</td>\n",
              "      <td>0.020000</td>\n",
              "      <td>0.013367</td>\n",
              "      <td>0.000000</td>\n",
              "      <td>0.000000</td>\n",
              "      <td>8</td>\n",
              "      <td>0.040100</td>\n",
              "      <td>0.040100</td>\n",
              "    </tr>\n",
              "    <tr>\n",
              "      <th>1</th>\n",
              "      <td>0xd42393df90d582bd8a5493171f0173e3a017d391</td>\n",
              "      <td>1</td>\n",
              "      <td>1179.02</td>\n",
              "      <td>1124.89</td>\n",
              "      <td>25126.45</td>\n",
              "      <td>13</td>\n",
              "      <td>0.000000</td>\n",
              "      <td>0.750000</td>\n",
              "      <td>0.176667</td>\n",
              "      <td>0.145000</td>\n",
              "      <td>0.419270</td>\n",
              "      <td>22</td>\n",
              "      <td>2.650000</td>\n",
              "      <td>-0.284889</td>\n",
              "    </tr>\n",
              "    <tr>\n",
              "      <th>2</th>\n",
              "      <td>0x3025c36d8a9620d3df89e9e9b1acbdfd639a6f37</td>\n",
              "      <td>1</td>\n",
              "      <td>361.73</td>\n",
              "      <td>0.00</td>\n",
              "      <td>723.47</td>\n",
              "      <td>1</td>\n",
              "      <td>4.999916</td>\n",
              "      <td>4.999916</td>\n",
              "      <td>4.999916</td>\n",
              "      <td>2.490000</td>\n",
              "      <td>2.499538</td>\n",
              "      <td>3</td>\n",
              "      <td>4.999916</td>\n",
              "      <td>0.000840</td>\n",
              "    </tr>\n",
              "    <tr>\n",
              "      <th>3</th>\n",
              "      <td>0x6309f709faad518fc158af4c14edfa7b06424770</td>\n",
              "      <td>1</td>\n",
              "      <td>0.00</td>\n",
              "      <td>0.00</td>\n",
              "      <td>0.00</td>\n",
              "      <td>0</td>\n",
              "      <td>0.000000</td>\n",
              "      <td>0.000000</td>\n",
              "      <td>0.000000</td>\n",
              "      <td>0.000000</td>\n",
              "      <td>0.000000</td>\n",
              "      <td>0</td>\n",
              "      <td>0.000000</td>\n",
              "      <td>0.000000</td>\n",
              "    </tr>\n",
              "    <tr>\n",
              "      <th>4</th>\n",
              "      <td>0x3d020954e30c3d40b7f0c533cf198bc10dd45a49</td>\n",
              "      <td>1</td>\n",
              "      <td>14280.60</td>\n",
              "      <td>1479.86</td>\n",
              "      <td>45357.57</td>\n",
              "      <td>21</td>\n",
              "      <td>0.035000</td>\n",
              "      <td>0.200000</td>\n",
              "      <td>0.099286</td>\n",
              "      <td>2.084658</td>\n",
              "      <td>2.084658</td>\n",
              "      <td>22</td>\n",
              "      <td>2.085000</td>\n",
              "      <td>0.000342</td>\n",
              "    </tr>\n",
              "  </tbody>\n",
              "</table>\n",
              "</div>\n",
              "    <div class=\"colab-df-buttons\">\n",
              "\n",
              "  <div class=\"colab-df-container\">\n",
              "    <button class=\"colab-df-convert\" onclick=\"convertToInteractive('df-649626ab-2dda-4d1f-b156-80ae31c60146')\"\n",
              "            title=\"Convert this dataframe to an interactive table.\"\n",
              "            style=\"display:none;\">\n",
              "\n",
              "  <svg xmlns=\"http://www.w3.org/2000/svg\" height=\"24px\" viewBox=\"0 -960 960 960\">\n",
              "    <path d=\"M120-120v-720h720v720H120Zm60-500h600v-160H180v160Zm220 220h160v-160H400v160Zm0 220h160v-160H400v160ZM180-400h160v-160H180v160Zm440 0h160v-160H620v160ZM180-180h160v-160H180v160Zm440 0h160v-160H620v160Z\"/>\n",
              "  </svg>\n",
              "    </button>\n",
              "\n",
              "  <style>\n",
              "    .colab-df-container {\n",
              "      display:flex;\n",
              "      gap: 12px;\n",
              "    }\n",
              "\n",
              "    .colab-df-convert {\n",
              "      background-color: #E8F0FE;\n",
              "      border: none;\n",
              "      border-radius: 50%;\n",
              "      cursor: pointer;\n",
              "      display: none;\n",
              "      fill: #1967D2;\n",
              "      height: 32px;\n",
              "      padding: 0 0 0 0;\n",
              "      width: 32px;\n",
              "    }\n",
              "\n",
              "    .colab-df-convert:hover {\n",
              "      background-color: #E2EBFA;\n",
              "      box-shadow: 0px 1px 2px rgba(60, 64, 67, 0.3), 0px 1px 3px 1px rgba(60, 64, 67, 0.15);\n",
              "      fill: #174EA6;\n",
              "    }\n",
              "\n",
              "    .colab-df-buttons div {\n",
              "      margin-bottom: 4px;\n",
              "    }\n",
              "\n",
              "    [theme=dark] .colab-df-convert {\n",
              "      background-color: #3B4455;\n",
              "      fill: #D2E3FC;\n",
              "    }\n",
              "\n",
              "    [theme=dark] .colab-df-convert:hover {\n",
              "      background-color: #434B5C;\n",
              "      box-shadow: 0px 1px 3px 1px rgba(0, 0, 0, 0.15);\n",
              "      filter: drop-shadow(0px 1px 2px rgba(0, 0, 0, 0.3));\n",
              "      fill: #FFFFFF;\n",
              "    }\n",
              "  </style>\n",
              "\n",
              "    <script>\n",
              "      const buttonEl =\n",
              "        document.querySelector('#df-649626ab-2dda-4d1f-b156-80ae31c60146 button.colab-df-convert');\n",
              "      buttonEl.style.display =\n",
              "        google.colab.kernel.accessAllowed ? 'block' : 'none';\n",
              "\n",
              "      async function convertToInteractive(key) {\n",
              "        const element = document.querySelector('#df-649626ab-2dda-4d1f-b156-80ae31c60146');\n",
              "        const dataTable =\n",
              "          await google.colab.kernel.invokeFunction('convertToInteractive',\n",
              "                                                    [key], {});\n",
              "        if (!dataTable) return;\n",
              "\n",
              "        const docLinkHtml = 'Like what you see? Visit the ' +\n",
              "          '<a target=\"_blank\" href=https://colab.research.google.com/notebooks/data_table.ipynb>data table notebook</a>'\n",
              "          + ' to learn more about interactive tables.';\n",
              "        element.innerHTML = '';\n",
              "        dataTable['output_type'] = 'display_data';\n",
              "        await google.colab.output.renderOutput(dataTable, element);\n",
              "        const docLink = document.createElement('div');\n",
              "        docLink.innerHTML = docLinkHtml;\n",
              "        element.appendChild(docLink);\n",
              "      }\n",
              "    </script>\n",
              "  </div>\n",
              "\n",
              "\n",
              "<div id=\"df-73eb3d82-1f70-452a-ac30-75660a0b7531\">\n",
              "  <button class=\"colab-df-quickchart\" onclick=\"quickchart('df-73eb3d82-1f70-452a-ac30-75660a0b7531')\"\n",
              "            title=\"Suggest charts\"\n",
              "            style=\"display:none;\">\n",
              "\n",
              "<svg xmlns=\"http://www.w3.org/2000/svg\" height=\"24px\"viewBox=\"0 0 24 24\"\n",
              "     width=\"24px\">\n",
              "    <g>\n",
              "        <path d=\"M19 3H5c-1.1 0-2 .9-2 2v14c0 1.1.9 2 2 2h14c1.1 0 2-.9 2-2V5c0-1.1-.9-2-2-2zM9 17H7v-7h2v7zm4 0h-2V7h2v10zm4 0h-2v-4h2v4z\"/>\n",
              "    </g>\n",
              "</svg>\n",
              "  </button>\n",
              "\n",
              "<style>\n",
              "  .colab-df-quickchart {\n",
              "      --bg-color: #E8F0FE;\n",
              "      --fill-color: #1967D2;\n",
              "      --hover-bg-color: #E2EBFA;\n",
              "      --hover-fill-color: #174EA6;\n",
              "      --disabled-fill-color: #AAA;\n",
              "      --disabled-bg-color: #DDD;\n",
              "  }\n",
              "\n",
              "  [theme=dark] .colab-df-quickchart {\n",
              "      --bg-color: #3B4455;\n",
              "      --fill-color: #D2E3FC;\n",
              "      --hover-bg-color: #434B5C;\n",
              "      --hover-fill-color: #FFFFFF;\n",
              "      --disabled-bg-color: #3B4455;\n",
              "      --disabled-fill-color: #666;\n",
              "  }\n",
              "\n",
              "  .colab-df-quickchart {\n",
              "    background-color: var(--bg-color);\n",
              "    border: none;\n",
              "    border-radius: 50%;\n",
              "    cursor: pointer;\n",
              "    display: none;\n",
              "    fill: var(--fill-color);\n",
              "    height: 32px;\n",
              "    padding: 0;\n",
              "    width: 32px;\n",
              "  }\n",
              "\n",
              "  .colab-df-quickchart:hover {\n",
              "    background-color: var(--hover-bg-color);\n",
              "    box-shadow: 0 1px 2px rgba(60, 64, 67, 0.3), 0 1px 3px 1px rgba(60, 64, 67, 0.15);\n",
              "    fill: var(--button-hover-fill-color);\n",
              "  }\n",
              "\n",
              "  .colab-df-quickchart-complete:disabled,\n",
              "  .colab-df-quickchart-complete:disabled:hover {\n",
              "    background-color: var(--disabled-bg-color);\n",
              "    fill: var(--disabled-fill-color);\n",
              "    box-shadow: none;\n",
              "  }\n",
              "\n",
              "  .colab-df-spinner {\n",
              "    border: 2px solid var(--fill-color);\n",
              "    border-color: transparent;\n",
              "    border-bottom-color: var(--fill-color);\n",
              "    animation:\n",
              "      spin 1s steps(1) infinite;\n",
              "  }\n",
              "\n",
              "  @keyframes spin {\n",
              "    0% {\n",
              "      border-color: transparent;\n",
              "      border-bottom-color: var(--fill-color);\n",
              "      border-left-color: var(--fill-color);\n",
              "    }\n",
              "    20% {\n",
              "      border-color: transparent;\n",
              "      border-left-color: var(--fill-color);\n",
              "      border-top-color: var(--fill-color);\n",
              "    }\n",
              "    30% {\n",
              "      border-color: transparent;\n",
              "      border-left-color: var(--fill-color);\n",
              "      border-top-color: var(--fill-color);\n",
              "      border-right-color: var(--fill-color);\n",
              "    }\n",
              "    40% {\n",
              "      border-color: transparent;\n",
              "      border-right-color: var(--fill-color);\n",
              "      border-top-color: var(--fill-color);\n",
              "    }\n",
              "    60% {\n",
              "      border-color: transparent;\n",
              "      border-right-color: var(--fill-color);\n",
              "    }\n",
              "    80% {\n",
              "      border-color: transparent;\n",
              "      border-right-color: var(--fill-color);\n",
              "      border-bottom-color: var(--fill-color);\n",
              "    }\n",
              "    90% {\n",
              "      border-color: transparent;\n",
              "      border-bottom-color: var(--fill-color);\n",
              "    }\n",
              "  }\n",
              "</style>\n",
              "\n",
              "  <script>\n",
              "    async function quickchart(key) {\n",
              "      const quickchartButtonEl =\n",
              "        document.querySelector('#' + key + ' button');\n",
              "      quickchartButtonEl.disabled = true;  // To prevent multiple clicks.\n",
              "      quickchartButtonEl.classList.add('colab-df-spinner');\n",
              "      try {\n",
              "        const charts = await google.colab.kernel.invokeFunction(\n",
              "            'suggestCharts', [key], {});\n",
              "      } catch (error) {\n",
              "        console.error('Error during call to suggestCharts:', error);\n",
              "      }\n",
              "      quickchartButtonEl.classList.remove('colab-df-spinner');\n",
              "      quickchartButtonEl.classList.add('colab-df-quickchart-complete');\n",
              "    }\n",
              "    (() => {\n",
              "      let quickchartButtonEl =\n",
              "        document.querySelector('#df-73eb3d82-1f70-452a-ac30-75660a0b7531 button');\n",
              "      quickchartButtonEl.style.display =\n",
              "        google.colab.kernel.accessAllowed ? 'block' : 'none';\n",
              "    })();\n",
              "  </script>\n",
              "</div>\n",
              "\n",
              "    </div>\n",
              "  </div>\n"
            ],
            "application/vnd.google.colaboratory.intrinsic+json": {
              "type": "dataframe",
              "variable_name": "df",
              "summary": "{\n  \"name\": \"df\",\n  \"rows\": 14155,\n  \"fields\": [\n    {\n      \"column\": \"Address\",\n      \"properties\": {\n        \"dtype\": \"string\",\n        \"num_unique_values\": 14155,\n        \"samples\": [\n          \"0x88112404429f5502de6fc84b11f98ebd1de025c7\",\n          \"0x6f2d2b4b174bb384c67f09006570cb227f12500f\",\n          \"0xb24f30ee924dc28e31148c72a180bac610c9e232\"\n        ],\n        \"semantic_type\": \"\",\n        \"description\": \"\"\n      }\n    },\n    {\n      \"column\": \"FLAG\",\n      \"properties\": {\n        \"dtype\": \"number\",\n        \"std\": 0,\n        \"min\": 0,\n        \"max\": 1,\n        \"num_unique_values\": 2,\n        \"samples\": [\n          0,\n          1\n        ],\n        \"semantic_type\": \"\",\n        \"description\": \"\"\n      }\n    },\n    {\n      \"column\": \"Avg min between sent tnx\",\n      \"properties\": {\n        \"dtype\": \"number\",\n        \"std\": 42914.09765852686,\n        \"min\": 0.0,\n        \"max\": 1461535.27,\n        \"num_unique_values\": 7780,\n        \"samples\": [\n          2000.04,\n          1757.7\n        ],\n        \"semantic_type\": \"\",\n        \"description\": \"\"\n      }\n    },\n    {\n      \"column\": \"Avg min between received tnx\",\n      \"properties\": {\n        \"dtype\": \"number\",\n        \"std\": 23506.649412494105,\n        \"min\": 0.0,\n        \"max\": 517161.1,\n        \"num_unique_values\": 8587,\n        \"samples\": [\n          111619.28,\n          16.23\n        ],\n        \"semantic_type\": \"\",\n        \"description\": \"\"\n      }\n    },\n    {\n      \"column\": \"Time Diff between first and last (Mins)\",\n      \"properties\": {\n        \"dtype\": \"number\",\n        \"std\": 323480.01605684793,\n        \"min\": 0.0,\n        \"max\": 2837469.92,\n        \"num_unique_values\": 10729,\n        \"samples\": [\n          860494.75,\n          15899.92\n        ],\n        \"semantic_type\": \"\",\n        \"description\": \"\"\n      }\n    },\n    {\n      \"column\": \"Unique Received From Addresses\",\n      \"properties\": {\n        \"dtype\": \"number\",\n        \"std\": 268,\n        \"min\": 0,\n        \"max\": 9999,\n        \"num_unique_values\": 376,\n        \"samples\": [\n          1242,\n          2372\n        ],\n        \"semantic_type\": \"\",\n        \"description\": \"\"\n      }\n    },\n    {\n      \"column\": \"min value received\",\n      \"properties\": {\n        \"dtype\": \"number\",\n        \"std\": 356.7290564085255,\n        \"min\": 0.0,\n        \"max\": 25533.6143287584,\n        \"num_unique_values\": 6054,\n        \"samples\": [\n          0.0037,\n          0.001049505\n        ],\n        \"semantic_type\": \"\",\n        \"description\": \"\"\n      }\n    },\n    {\n      \"column\": \"max value received \",\n      \"properties\": {\n        \"dtype\": \"number\",\n        \"std\": 10853.726198247852,\n        \"min\": 0.0,\n        \"max\": 800000.0,\n        \"num_unique_values\": 7919,\n        \"samples\": [\n          3.488,\n          6.713586\n        ],\n        \"semantic_type\": \"\",\n        \"description\": \"\"\n      }\n    },\n    {\n      \"column\": \"avg val received\",\n      \"properties\": {\n        \"dtype\": \"number\",\n        \"std\": 2417.913485374872,\n        \"min\": 0.0,\n        \"max\": 283618.8316,\n        \"num_unique_values\": 9406,\n        \"samples\": [\n          0.217784,\n          1.804629687142857\n        ],\n        \"semantic_type\": \"\",\n        \"description\": \"\"\n      }\n    },\n    {\n      \"column\": \"min val sent\",\n      \"properties\": {\n        \"dtype\": \"number\",\n        \"std\": 134.4968804237462,\n        \"min\": 0.0,\n        \"max\": 12000.0,\n        \"num_unique_values\": 6177,\n        \"samples\": [\n          0.301749,\n          0.085208\n        ],\n        \"semantic_type\": \"\",\n        \"description\": \"\"\n      }\n    },\n    {\n      \"column\": \"avg val sent\",\n      \"properties\": {\n        \"dtype\": \"number\",\n        \"std\": 239.33310713896532,\n        \"min\": 0.0,\n        \"max\": 12766.8069543792,\n        \"num_unique_values\": 8695,\n        \"samples\": [\n          0.160423918,\n          0.8423219999999999\n        ],\n        \"semantic_type\": \"\",\n        \"description\": \"\"\n      }\n    },\n    {\n      \"column\": \"total transactions (including tnx to create contract\",\n      \"properties\": {\n        \"dtype\": \"number\",\n        \"std\": 1144,\n        \"min\": 0,\n        \"max\": 19995,\n        \"num_unique_values\": 977,\n        \"samples\": [\n          558,\n          1292\n        ],\n        \"semantic_type\": \"\",\n        \"description\": \"\"\n      }\n    },\n    {\n      \"column\": \"total ether received\",\n      \"properties\": {\n        \"dtype\": \"number\",\n        \"std\": 303718.1647826548,\n        \"min\": 0.0,\n        \"max\": 28581590.07,\n        \"num_unique_values\": 9318,\n        \"samples\": [\n          1.31765192,\n          8970.991795\n        ],\n        \"semantic_type\": \"\",\n        \"description\": \"\"\n      }\n    },\n    {\n      \"column\": \"total ether balance\",\n      \"properties\": {\n        \"dtype\": \"number\",\n        \"std\": 202133.92415179373,\n        \"min\": -15605352.04,\n        \"max\": 14288636.26,\n        \"num_unique_values\": 8055,\n        \"samples\": [\n          32.31976434,\n          0.223189386\n        ],\n        \"semantic_type\": \"\",\n        \"description\": \"\"\n      }\n    }\n  ]\n}"
            }
          },
          "metadata": {},
          "execution_count": 4
        }
      ],
      "source": [
        "df = pd.read_csv('address_data_combined.csv')\n",
        "df.head()"
      ]
    },
    {
      "cell_type": "code",
      "execution_count": null,
      "id": "357037b9",
      "metadata": {
        "colab": {
          "base_uri": "https://localhost:8080/"
        },
        "id": "357037b9",
        "outputId": "aae479cc-8482-4910-cf3a-f243e1d23764"
      },
      "outputs": [
        {
          "output_type": "stream",
          "name": "stdout",
          "text": [
            "(14155, 12)\n",
            "(14155,)\n"
          ]
        }
      ],
      "source": [
        "X = df.drop(columns=['Address','FLAG'])\n",
        "y = df['FLAG']\n",
        "print(X.shape)\n",
        "print(y.shape)"
      ]
    },
    {
      "cell_type": "code",
      "execution_count": null,
      "id": "2dcee46a",
      "metadata": {
        "colab": {
          "base_uri": "https://localhost:8080/"
        },
        "id": "2dcee46a",
        "outputId": "0c69c508-df96-4f39-e8e3-71dac12efc8e"
      },
      "outputs": [
        {
          "output_type": "stream",
          "name": "stdout",
          "text": [
            "(9908, 12)\n",
            "(4247, 12)\n"
          ]
        }
      ],
      "source": [
        "X_train, X_test, y_train, y_test = train_test_split(X,y,random_state=42,test_size=0.3,stratify=y)\n",
        "\n",
        "print(X_train.shape)\n",
        "print(X_test.shape)"
      ]
    },
    {
      "cell_type": "code",
      "execution_count": null,
      "id": "9ba4330b",
      "metadata": {
        "colab": {
          "base_uri": "https://localhost:8080/"
        },
        "id": "9ba4330b",
        "outputId": "d1780453-750d-47fd-9227-248aabaaac83"
      },
      "outputs": [
        {
          "output_type": "execute_result",
          "data": {
            "text/plain": [
              "array([[False, False, False, ..., False, False, False],\n",
              "       [False, False, False, ..., False, False, False],\n",
              "       [False, False, False, ..., False, False, False],\n",
              "       ...,\n",
              "       [False, False, False, ..., False, False, False],\n",
              "       [False, False, False, ..., False, False, False],\n",
              "       [False, False, False, ..., False, False, False]])"
            ]
          },
          "metadata": {},
          "execution_count": 7
        }
      ],
      "source": [
        "import numpy as np\n",
        "\n",
        "columns = ['Avg min between sent tnx', 'Avg min between received tnx',\n",
        "       'Time Diff between first and last (Mins)',\n",
        "       'Unique Received From Addresses', 'min value received',\n",
        "       'max value received ', 'avg val received', 'min val sent',\n",
        "       'avg val sent', 'total transactions (including tnx to create contract',\n",
        "       'total ether received', 'total ether balance']\n",
        "\n",
        "scaler = MinMaxScaler()\n",
        "\n",
        "# Log for Skewed Data\n",
        "for c in columns:\n",
        "  X_train[c] = X_train[c].apply(lambda x: np.log(x) if x > 0 else 0)\n",
        "  X_test[c] = X_test[c].apply(lambda x: np.log(x) if x > 0 else 0)\n",
        "\n",
        "# Scaling\n",
        "X_train = scaler.fit_transform(X_train)\n",
        "X_test = scaler.transform(X_test)\n",
        "\n",
        "np.isnan(X_train)"
      ]
    },
    {
      "cell_type": "code",
      "execution_count": null,
      "id": "a15ab2d0",
      "metadata": {
        "colab": {
          "base_uri": "https://localhost:8080/",
          "height": 1000
        },
        "id": "a15ab2d0",
        "outputId": "a30bd763-7581-49bf-b471-c61c8ba9e26b"
      },
      "outputs": [
        {
          "output_type": "stream",
          "name": "stdout",
          "text": [
            "Fitting 5 folds for each of 16 candidates, totalling 80 fits\n",
            "[CV] END .......................................C=1, gamma=1; total time=   1.9s\n",
            "[CV] END .......................................C=1, gamma=1; total time=   1.5s\n",
            "[CV] END .......................................C=1, gamma=1; total time=   1.6s\n",
            "[CV] END .......................................C=1, gamma=1; total time=   1.5s\n",
            "[CV] END .......................................C=1, gamma=1; total time=   1.6s\n",
            "[CV] END .....................................C=1, gamma=0.1; total time=   1.6s\n",
            "[CV] END .....................................C=1, gamma=0.1; total time=   1.8s\n",
            "[CV] END .....................................C=1, gamma=0.1; total time=   2.3s\n",
            "[CV] END .....................................C=1, gamma=0.1; total time=   1.5s\n",
            "[CV] END .....................................C=1, gamma=0.1; total time=   1.6s\n",
            "[CV] END ....................................C=1, gamma=0.01; total time=   1.6s\n",
            "[CV] END ....................................C=1, gamma=0.01; total time=   1.5s\n",
            "[CV] END ....................................C=1, gamma=0.01; total time=   1.6s\n",
            "[CV] END ....................................C=1, gamma=0.01; total time=   1.5s\n",
            "[CV] END ....................................C=1, gamma=0.01; total time=   2.6s\n",
            "[CV] END ...................................C=1, gamma=0.001; total time=   1.7s\n",
            "[CV] END ...................................C=1, gamma=0.001; total time=   1.5s\n",
            "[CV] END ...................................C=1, gamma=0.001; total time=   1.6s\n",
            "[CV] END ...................................C=1, gamma=0.001; total time=   1.9s\n",
            "[CV] END ...................................C=1, gamma=0.001; total time=   2.5s\n",
            "[CV] END ......................................C=10, gamma=1; total time=   2.4s\n",
            "[CV] END ......................................C=10, gamma=1; total time=   2.6s\n",
            "[CV] END ......................................C=10, gamma=1; total time=   2.0s\n",
            "[CV] END ......................................C=10, gamma=1; total time=   2.2s\n",
            "[CV] END ......................................C=10, gamma=1; total time=   2.2s\n",
            "[CV] END ....................................C=10, gamma=0.1; total time=   2.0s\n",
            "[CV] END ....................................C=10, gamma=0.1; total time=   3.0s\n",
            "[CV] END ....................................C=10, gamma=0.1; total time=   2.0s\n",
            "[CV] END ....................................C=10, gamma=0.1; total time=   2.2s\n",
            "[CV] END ....................................C=10, gamma=0.1; total time=   2.1s\n",
            "[CV] END ...................................C=10, gamma=0.01; total time=   2.0s\n",
            "[CV] END ...................................C=10, gamma=0.01; total time=   2.3s\n",
            "[CV] END ...................................C=10, gamma=0.01; total time=   2.9s\n",
            "[CV] END ...................................C=10, gamma=0.01; total time=   2.2s\n",
            "[CV] END ...................................C=10, gamma=0.01; total time=   2.2s\n",
            "[CV] END ..................................C=10, gamma=0.001; total time=   2.0s\n",
            "[CV] END ..................................C=10, gamma=0.001; total time=   2.6s\n",
            "[CV] END ..................................C=10, gamma=0.001; total time=   2.8s\n",
            "[CV] END ..................................C=10, gamma=0.001; total time=   2.3s\n",
            "[CV] END ..................................C=10, gamma=0.001; total time=   2.2s\n",
            "[CV] END .....................................C=100, gamma=1; total time=   4.4s\n",
            "[CV] END .....................................C=100, gamma=1; total time=   5.3s\n",
            "[CV] END .....................................C=100, gamma=1; total time=   4.7s\n",
            "[CV] END .....................................C=100, gamma=1; total time=   6.1s\n",
            "[CV] END .....................................C=100, gamma=1; total time=   4.7s\n",
            "[CV] END ...................................C=100, gamma=0.1; total time=   4.3s\n",
            "[CV] END ...................................C=100, gamma=0.1; total time=   5.3s\n",
            "[CV] END ...................................C=100, gamma=0.1; total time=   4.6s\n",
            "[CV] END ...................................C=100, gamma=0.1; total time=   5.9s\n",
            "[CV] END ...................................C=100, gamma=0.1; total time=   4.8s\n",
            "[CV] END ..................................C=100, gamma=0.01; total time=   4.3s\n",
            "[CV] END ..................................C=100, gamma=0.01; total time=   5.3s\n",
            "[CV] END ..................................C=100, gamma=0.01; total time=   4.7s\n",
            "[CV] END ..................................C=100, gamma=0.01; total time=   5.7s\n",
            "[CV] END ..................................C=100, gamma=0.01; total time=   5.1s\n",
            "[CV] END .................................C=100, gamma=0.001; total time=   4.3s\n",
            "[CV] END .................................C=100, gamma=0.001; total time=   5.3s\n",
            "[CV] END .................................C=100, gamma=0.001; total time=   4.7s\n",
            "[CV] END .................................C=100, gamma=0.001; total time=   5.6s\n",
            "[CV] END .................................C=100, gamma=0.001; total time=   5.1s\n",
            "[CV] END ....................................C=1000, gamma=1; total time=  27.6s\n",
            "[CV] END ....................................C=1000, gamma=1; total time=  26.0s\n",
            "[CV] END ....................................C=1000, gamma=1; total time=  26.6s\n",
            "[CV] END ....................................C=1000, gamma=1; total time=  31.7s\n",
            "[CV] END ....................................C=1000, gamma=1; total time=  24.5s\n",
            "[CV] END ..................................C=1000, gamma=0.1; total time=  27.7s\n",
            "[CV] END ..................................C=1000, gamma=0.1; total time=  30.5s\n",
            "[CV] END ..................................C=1000, gamma=0.1; total time=  47.0s\n",
            "[CV] END ..................................C=1000, gamma=0.1; total time=  30.3s\n",
            "[CV] END ..................................C=1000, gamma=0.1; total time=  24.6s\n",
            "[CV] END .................................C=1000, gamma=0.01; total time=  27.9s\n",
            "[CV] END .................................C=1000, gamma=0.01; total time=  27.3s\n",
            "[CV] END .................................C=1000, gamma=0.01; total time=  27.6s\n",
            "[CV] END .................................C=1000, gamma=0.01; total time=  31.1s\n",
            "[CV] END .................................C=1000, gamma=0.01; total time=  24.6s\n",
            "[CV] END ................................C=1000, gamma=0.001; total time=  27.7s\n",
            "[CV] END ................................C=1000, gamma=0.001; total time=  26.0s\n",
            "[CV] END ................................C=1000, gamma=0.001; total time=  27.7s\n",
            "[CV] END ................................C=1000, gamma=0.001; total time=  31.1s\n",
            "[CV] END ................................C=1000, gamma=0.001; total time=  24.7s\n"
          ]
        },
        {
          "output_type": "execute_result",
          "data": {
            "text/plain": [
              "GridSearchCV(cv=5, estimator=SVC(kernel='linear'),\n",
              "             param_grid=[{'C': [1, 10, 100, 1000],\n",
              "                          'gamma': [1, 0.1, 0.01, 0.001]}],\n",
              "             scoring='f1', verbose=2)"
            ],
            "text/html": [
              "<style>#sk-container-id-1 {color: black;background-color: white;}#sk-container-id-1 pre{padding: 0;}#sk-container-id-1 div.sk-toggleable {background-color: white;}#sk-container-id-1 label.sk-toggleable__label {cursor: pointer;display: block;width: 100%;margin-bottom: 0;padding: 0.3em;box-sizing: border-box;text-align: center;}#sk-container-id-1 label.sk-toggleable__label-arrow:before {content: \"▸\";float: left;margin-right: 0.25em;color: #696969;}#sk-container-id-1 label.sk-toggleable__label-arrow:hover:before {color: black;}#sk-container-id-1 div.sk-estimator:hover label.sk-toggleable__label-arrow:before {color: black;}#sk-container-id-1 div.sk-toggleable__content {max-height: 0;max-width: 0;overflow: hidden;text-align: left;background-color: #f0f8ff;}#sk-container-id-1 div.sk-toggleable__content pre {margin: 0.2em;color: black;border-radius: 0.25em;background-color: #f0f8ff;}#sk-container-id-1 input.sk-toggleable__control:checked~div.sk-toggleable__content {max-height: 200px;max-width: 100%;overflow: auto;}#sk-container-id-1 input.sk-toggleable__control:checked~label.sk-toggleable__label-arrow:before {content: \"▾\";}#sk-container-id-1 div.sk-estimator input.sk-toggleable__control:checked~label.sk-toggleable__label {background-color: #d4ebff;}#sk-container-id-1 div.sk-label input.sk-toggleable__control:checked~label.sk-toggleable__label {background-color: #d4ebff;}#sk-container-id-1 input.sk-hidden--visually {border: 0;clip: rect(1px 1px 1px 1px);clip: rect(1px, 1px, 1px, 1px);height: 1px;margin: -1px;overflow: hidden;padding: 0;position: absolute;width: 1px;}#sk-container-id-1 div.sk-estimator {font-family: monospace;background-color: #f0f8ff;border: 1px dotted black;border-radius: 0.25em;box-sizing: border-box;margin-bottom: 0.5em;}#sk-container-id-1 div.sk-estimator:hover {background-color: #d4ebff;}#sk-container-id-1 div.sk-parallel-item::after {content: \"\";width: 100%;border-bottom: 1px solid gray;flex-grow: 1;}#sk-container-id-1 div.sk-label:hover label.sk-toggleable__label {background-color: #d4ebff;}#sk-container-id-1 div.sk-serial::before {content: \"\";position: absolute;border-left: 1px solid gray;box-sizing: border-box;top: 0;bottom: 0;left: 50%;z-index: 0;}#sk-container-id-1 div.sk-serial {display: flex;flex-direction: column;align-items: center;background-color: white;padding-right: 0.2em;padding-left: 0.2em;position: relative;}#sk-container-id-1 div.sk-item {position: relative;z-index: 1;}#sk-container-id-1 div.sk-parallel {display: flex;align-items: stretch;justify-content: center;background-color: white;position: relative;}#sk-container-id-1 div.sk-item::before, #sk-container-id-1 div.sk-parallel-item::before {content: \"\";position: absolute;border-left: 1px solid gray;box-sizing: border-box;top: 0;bottom: 0;left: 50%;z-index: -1;}#sk-container-id-1 div.sk-parallel-item {display: flex;flex-direction: column;z-index: 1;position: relative;background-color: white;}#sk-container-id-1 div.sk-parallel-item:first-child::after {align-self: flex-end;width: 50%;}#sk-container-id-1 div.sk-parallel-item:last-child::after {align-self: flex-start;width: 50%;}#sk-container-id-1 div.sk-parallel-item:only-child::after {width: 0;}#sk-container-id-1 div.sk-dashed-wrapped {border: 1px dashed gray;margin: 0 0.4em 0.5em 0.4em;box-sizing: border-box;padding-bottom: 0.4em;background-color: white;}#sk-container-id-1 div.sk-label label {font-family: monospace;font-weight: bold;display: inline-block;line-height: 1.2em;}#sk-container-id-1 div.sk-label-container {text-align: center;}#sk-container-id-1 div.sk-container {/* jupyter's `normalize.less` sets `[hidden] { display: none; }` but bootstrap.min.css set `[hidden] { display: none !important; }` so we also need the `!important` here to be able to override the default hidden behavior on the sphinx rendered scikit-learn.org. See: https://github.com/scikit-learn/scikit-learn/issues/21755 */display: inline-block !important;position: relative;}#sk-container-id-1 div.sk-text-repr-fallback {display: none;}</style><div id=\"sk-container-id-1\" class=\"sk-top-container\"><div class=\"sk-text-repr-fallback\"><pre>GridSearchCV(cv=5, estimator=SVC(kernel=&#x27;linear&#x27;),\n",
              "             param_grid=[{&#x27;C&#x27;: [1, 10, 100, 1000],\n",
              "                          &#x27;gamma&#x27;: [1, 0.1, 0.01, 0.001]}],\n",
              "             scoring=&#x27;f1&#x27;, verbose=2)</pre><b>In a Jupyter environment, please rerun this cell to show the HTML representation or trust the notebook. <br />On GitHub, the HTML representation is unable to render, please try loading this page with nbviewer.org.</b></div><div class=\"sk-container\" hidden><div class=\"sk-item sk-dashed-wrapped\"><div class=\"sk-label-container\"><div class=\"sk-label sk-toggleable\"><input class=\"sk-toggleable__control sk-hidden--visually\" id=\"sk-estimator-id-1\" type=\"checkbox\" ><label for=\"sk-estimator-id-1\" class=\"sk-toggleable__label sk-toggleable__label-arrow\">GridSearchCV</label><div class=\"sk-toggleable__content\"><pre>GridSearchCV(cv=5, estimator=SVC(kernel=&#x27;linear&#x27;),\n",
              "             param_grid=[{&#x27;C&#x27;: [1, 10, 100, 1000],\n",
              "                          &#x27;gamma&#x27;: [1, 0.1, 0.01, 0.001]}],\n",
              "             scoring=&#x27;f1&#x27;, verbose=2)</pre></div></div></div><div class=\"sk-parallel\"><div class=\"sk-parallel-item\"><div class=\"sk-item\"><div class=\"sk-label-container\"><div class=\"sk-label sk-toggleable\"><input class=\"sk-toggleable__control sk-hidden--visually\" id=\"sk-estimator-id-2\" type=\"checkbox\" ><label for=\"sk-estimator-id-2\" class=\"sk-toggleable__label sk-toggleable__label-arrow\">estimator: SVC</label><div class=\"sk-toggleable__content\"><pre>SVC(kernel=&#x27;linear&#x27;)</pre></div></div></div><div class=\"sk-serial\"><div class=\"sk-item\"><div class=\"sk-estimator sk-toggleable\"><input class=\"sk-toggleable__control sk-hidden--visually\" id=\"sk-estimator-id-3\" type=\"checkbox\" ><label for=\"sk-estimator-id-3\" class=\"sk-toggleable__label sk-toggleable__label-arrow\">SVC</label><div class=\"sk-toggleable__content\"><pre>SVC(kernel=&#x27;linear&#x27;)</pre></div></div></div></div></div></div></div></div></div></div>"
            ]
          },
          "metadata": {},
          "execution_count": 8
        }
      ],
      "source": [
        "tuned_parameters = [\n",
        "    { \"gamma\": [1,0.1,0.01,0.001], \"C\": [1, 10, 100, 1000]},\n",
        "]\n",
        "\n",
        "grid = GridSearchCV(SVC(kernel='linear'),tuned_parameters, refit=True,verbose=2,cv=5, scoring='f1')\n",
        "grid.fit(X_train,y_train)"
      ]
    },
    {
      "cell_type": "code",
      "execution_count": null,
      "id": "c1b86d33",
      "metadata": {
        "colab": {
          "base_uri": "https://localhost:8080/",
          "height": 118
        },
        "id": "c1b86d33",
        "outputId": "ace8e3a9-171b-4637-c5c9-5075dc9589b3"
      },
      "outputs": [
        {
          "output_type": "execute_result",
          "data": {
            "text/plain": [
              "GridSearchCV(cv=5, estimator=SVC(kernel='linear'),\n",
              "             param_grid=[{'C': [1, 10, 100, 1000],\n",
              "                          'gamma': [1, 0.1, 0.01, 0.001]}],\n",
              "             scoring='f1', verbose=2)"
            ],
            "text/html": [
              "<style>#sk-container-id-2 {color: black;background-color: white;}#sk-container-id-2 pre{padding: 0;}#sk-container-id-2 div.sk-toggleable {background-color: white;}#sk-container-id-2 label.sk-toggleable__label {cursor: pointer;display: block;width: 100%;margin-bottom: 0;padding: 0.3em;box-sizing: border-box;text-align: center;}#sk-container-id-2 label.sk-toggleable__label-arrow:before {content: \"▸\";float: left;margin-right: 0.25em;color: #696969;}#sk-container-id-2 label.sk-toggleable__label-arrow:hover:before {color: black;}#sk-container-id-2 div.sk-estimator:hover label.sk-toggleable__label-arrow:before {color: black;}#sk-container-id-2 div.sk-toggleable__content {max-height: 0;max-width: 0;overflow: hidden;text-align: left;background-color: #f0f8ff;}#sk-container-id-2 div.sk-toggleable__content pre {margin: 0.2em;color: black;border-radius: 0.25em;background-color: #f0f8ff;}#sk-container-id-2 input.sk-toggleable__control:checked~div.sk-toggleable__content {max-height: 200px;max-width: 100%;overflow: auto;}#sk-container-id-2 input.sk-toggleable__control:checked~label.sk-toggleable__label-arrow:before {content: \"▾\";}#sk-container-id-2 div.sk-estimator input.sk-toggleable__control:checked~label.sk-toggleable__label {background-color: #d4ebff;}#sk-container-id-2 div.sk-label input.sk-toggleable__control:checked~label.sk-toggleable__label {background-color: #d4ebff;}#sk-container-id-2 input.sk-hidden--visually {border: 0;clip: rect(1px 1px 1px 1px);clip: rect(1px, 1px, 1px, 1px);height: 1px;margin: -1px;overflow: hidden;padding: 0;position: absolute;width: 1px;}#sk-container-id-2 div.sk-estimator {font-family: monospace;background-color: #f0f8ff;border: 1px dotted black;border-radius: 0.25em;box-sizing: border-box;margin-bottom: 0.5em;}#sk-container-id-2 div.sk-estimator:hover {background-color: #d4ebff;}#sk-container-id-2 div.sk-parallel-item::after {content: \"\";width: 100%;border-bottom: 1px solid gray;flex-grow: 1;}#sk-container-id-2 div.sk-label:hover label.sk-toggleable__label {background-color: #d4ebff;}#sk-container-id-2 div.sk-serial::before {content: \"\";position: absolute;border-left: 1px solid gray;box-sizing: border-box;top: 0;bottom: 0;left: 50%;z-index: 0;}#sk-container-id-2 div.sk-serial {display: flex;flex-direction: column;align-items: center;background-color: white;padding-right: 0.2em;padding-left: 0.2em;position: relative;}#sk-container-id-2 div.sk-item {position: relative;z-index: 1;}#sk-container-id-2 div.sk-parallel {display: flex;align-items: stretch;justify-content: center;background-color: white;position: relative;}#sk-container-id-2 div.sk-item::before, #sk-container-id-2 div.sk-parallel-item::before {content: \"\";position: absolute;border-left: 1px solid gray;box-sizing: border-box;top: 0;bottom: 0;left: 50%;z-index: -1;}#sk-container-id-2 div.sk-parallel-item {display: flex;flex-direction: column;z-index: 1;position: relative;background-color: white;}#sk-container-id-2 div.sk-parallel-item:first-child::after {align-self: flex-end;width: 50%;}#sk-container-id-2 div.sk-parallel-item:last-child::after {align-self: flex-start;width: 50%;}#sk-container-id-2 div.sk-parallel-item:only-child::after {width: 0;}#sk-container-id-2 div.sk-dashed-wrapped {border: 1px dashed gray;margin: 0 0.4em 0.5em 0.4em;box-sizing: border-box;padding-bottom: 0.4em;background-color: white;}#sk-container-id-2 div.sk-label label {font-family: monospace;font-weight: bold;display: inline-block;line-height: 1.2em;}#sk-container-id-2 div.sk-label-container {text-align: center;}#sk-container-id-2 div.sk-container {/* jupyter's `normalize.less` sets `[hidden] { display: none; }` but bootstrap.min.css set `[hidden] { display: none !important; }` so we also need the `!important` here to be able to override the default hidden behavior on the sphinx rendered scikit-learn.org. See: https://github.com/scikit-learn/scikit-learn/issues/21755 */display: inline-block !important;position: relative;}#sk-container-id-2 div.sk-text-repr-fallback {display: none;}</style><div id=\"sk-container-id-2\" class=\"sk-top-container\"><div class=\"sk-text-repr-fallback\"><pre>GridSearchCV(cv=5, estimator=SVC(kernel=&#x27;linear&#x27;),\n",
              "             param_grid=[{&#x27;C&#x27;: [1, 10, 100, 1000],\n",
              "                          &#x27;gamma&#x27;: [1, 0.1, 0.01, 0.001]}],\n",
              "             scoring=&#x27;f1&#x27;, verbose=2)</pre><b>In a Jupyter environment, please rerun this cell to show the HTML representation or trust the notebook. <br />On GitHub, the HTML representation is unable to render, please try loading this page with nbviewer.org.</b></div><div class=\"sk-container\" hidden><div class=\"sk-item sk-dashed-wrapped\"><div class=\"sk-label-container\"><div class=\"sk-label sk-toggleable\"><input class=\"sk-toggleable__control sk-hidden--visually\" id=\"sk-estimator-id-4\" type=\"checkbox\" ><label for=\"sk-estimator-id-4\" class=\"sk-toggleable__label sk-toggleable__label-arrow\">GridSearchCV</label><div class=\"sk-toggleable__content\"><pre>GridSearchCV(cv=5, estimator=SVC(kernel=&#x27;linear&#x27;),\n",
              "             param_grid=[{&#x27;C&#x27;: [1, 10, 100, 1000],\n",
              "                          &#x27;gamma&#x27;: [1, 0.1, 0.01, 0.001]}],\n",
              "             scoring=&#x27;f1&#x27;, verbose=2)</pre></div></div></div><div class=\"sk-parallel\"><div class=\"sk-parallel-item\"><div class=\"sk-item\"><div class=\"sk-label-container\"><div class=\"sk-label sk-toggleable\"><input class=\"sk-toggleable__control sk-hidden--visually\" id=\"sk-estimator-id-5\" type=\"checkbox\" ><label for=\"sk-estimator-id-5\" class=\"sk-toggleable__label sk-toggleable__label-arrow\">estimator: SVC</label><div class=\"sk-toggleable__content\"><pre>SVC(kernel=&#x27;linear&#x27;)</pre></div></div></div><div class=\"sk-serial\"><div class=\"sk-item\"><div class=\"sk-estimator sk-toggleable\"><input class=\"sk-toggleable__control sk-hidden--visually\" id=\"sk-estimator-id-6\" type=\"checkbox\" ><label for=\"sk-estimator-id-6\" class=\"sk-toggleable__label sk-toggleable__label-arrow\">SVC</label><div class=\"sk-toggleable__content\"><pre>SVC(kernel=&#x27;linear&#x27;)</pre></div></div></div></div></div></div></div></div></div></div>"
            ]
          },
          "metadata": {},
          "execution_count": 10
        }
      ],
      "source": [
        "GridSearchCV(cv=5, estimator=SVC(kernel='linear'),\n",
        "             param_grid=[{'C': [1, 10, 100, 1000],\n",
        "                          'gamma': [1, 0.1, 0.01, 0.001]}],\n",
        "             scoring='f1', verbose=2)"
      ]
    },
    {
      "cell_type": "code",
      "execution_count": null,
      "id": "f2455b89",
      "metadata": {
        "colab": {
          "base_uri": "https://localhost:8080/"
        },
        "id": "f2455b89",
        "outputId": "7a409510-66e0-4bd4-ebab-9951c803bfb3"
      },
      "outputs": [
        {
          "output_type": "execute_result",
          "data": {
            "text/plain": [
              "{'C': 1000, 'gamma': 1}"
            ]
          },
          "metadata": {},
          "execution_count": 11
        }
      ],
      "source": [
        "grid.best_params_"
      ]
    },
    {
      "cell_type": "code",
      "execution_count": null,
      "id": "9b05002b",
      "metadata": {
        "colab": {
          "base_uri": "https://localhost:8080/"
        },
        "id": "9b05002b",
        "outputId": "793f3f13-70a0-498e-e305-861d412df9c0"
      },
      "outputs": [
        {
          "output_type": "execute_result",
          "data": {
            "text/plain": [
              "0.8464033748174989"
            ]
          },
          "metadata": {},
          "execution_count": 12
        }
      ],
      "source": [
        "grid.best_score_"
      ]
    },
    {
      "cell_type": "code",
      "execution_count": null,
      "id": "1d04b491",
      "metadata": {
        "colab": {
          "base_uri": "https://localhost:8080/"
        },
        "id": "1d04b491",
        "outputId": "9bb82be8-f9a2-4d54-8884-a08c4d188a87"
      },
      "outputs": [
        {
          "output_type": "stream",
          "name": "stdout",
          "text": [
            "Accuracy Score: 0.8610784082882035\n",
            "Recall Score: 0.8440695296523517\n",
            "Precision Score: 0.8527892561983471\n",
            "ROC-AUC Score: 0.859834852124299\n"
          ]
        }
      ],
      "source": [
        "from sklearn.metrics import accuracy_score, recall_score, precision_score\n",
        "\n",
        "# Assuming 'grid' is your trained SVM model\n",
        "predicted_y = grid.predict(X_test)\n",
        "\n",
        "accuracy = accuracy_score(y_test, predicted_y)\n",
        "recall = recall_score(y_test, predicted_y)\n",
        "precision = precision_score(y_test, predicted_y)\n",
        "roc_auc = roc_auc_score(y_test, predicted_y)\n",
        "print(\"Accuracy Score:\", accuracy)\n",
        "print(\"Recall Score:\", recall)\n",
        "print(\"Precision Score:\", precision)\n",
        "print(\"ROC-AUC Score:\", roc_auc)\n"
      ]
    },
    {
      "cell_type": "code",
      "execution_count": null,
      "id": "1ae716ba",
      "metadata": {
        "colab": {
          "base_uri": "https://localhost:8080/"
        },
        "id": "1ae716ba",
        "outputId": "4ff12b34-96aa-4ffc-f14a-69fdd083f7d7"
      },
      "outputs": [
        {
          "output_type": "stream",
          "name": "stdout",
          "text": [
            "Tuned Hyperparameters : {'C': 1000, 'gamma': 1}\n",
            "Train F1 Score : 0.8464033748174989\n",
            "Test F1 Score:  0.8484069886947584\n"
          ]
        }
      ],
      "source": [
        "print(\"Tuned Hyperparameters :\", grid.best_params_)\n",
        "print(\"Train F1 Score :\",grid.best_score_)\n",
        "best_y_pr = grid.predict(X_test)\n",
        "print('Test F1 Score: ', f1_score(y_test, best_y_pr))"
      ]
    },
    {
      "cell_type": "code",
      "execution_count": null,
      "id": "c1b7d0a5",
      "metadata": {
        "id": "c1b7d0a5",
        "outputId": "f76a57e2-7e27-48a5-caf9-5c89497edf43"
      },
      "outputs": [
        {
          "data": {
            "image/png": "[encoded data removed]",
            "text/plain": [
              "<Figure size 1000x600 with 1 Axes>"
            ]
          },
          "metadata": {},
          "output_type": "display_data"
        }
      ],
      "source": [
        "from matplotlib import pyplot as plt\n",
        "feat_importances = grid.best_estimator_.coef_[0]\n",
        "indices = np.argsort(feat_importances)\n",
        "# plot\n",
        "fig, ax = plt.subplots(figsize=(10, 6))\n",
        "plt.title(\"Ranked feature importances\")\n",
        "plt.barh(range(len(feat_importances)), feat_importances[indices], align=\"center\")\n",
        "features = ['feature_{}'.format(columns[i]) for i in range(len(columns))]\n",
        "plt.yticks(range(len(feat_importances)), [features[idx] for idx in indices])\n",
        "plt.ylim([-1, len(feat_importances)])\n",
        "plt.show();"
      ]
    },
    {
      "cell_type": "code",
      "execution_count": null,
      "id": "5d0d4e6f",
      "metadata": {
        "id": "5d0d4e6f"
      },
      "outputs": [],
      "source": []
    }
  ],
  "metadata": {
    "kernelspec": {
      "display_name": "Python 3 (ipykernel)",
      "language": "python",
      "name": "python3"
    },
    "language_info": {
      "codemirror_mode": {
        "name": "ipython",
        "version": 3
      },
      "file_extension": ".py",
      "mimetype": "text/x-python",
      "name": "python",
      "nbconvert_exporter": "python",
      "pygments_lexer": "ipython3",
      "version": "3.11.4"
    },
    "colab": {
      "provenance": []
    }
  },
  "nbformat": 4,
  "nbformat_minor": 5
}